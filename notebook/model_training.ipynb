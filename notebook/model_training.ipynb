{
 "cells": [
  {
   "cell_type": "code",
   "execution_count": 5,
   "id": "f21e7989-787d-4284-84c8-4d4dfc74b63a",
   "metadata": {},
   "outputs": [],
   "source": [
    "# STEP 1: Import Libraries\n",
    "\n",
    "import pandas as pd\n",
    "from sklearn.model_selection import train_test_split, cross_val_score\n",
    "from sklearn.linear_model import LinearRegression, Lasso, Ridge\n",
    "from xgboost import XGBRegressor\n",
    "from sklearn.metrics import mean_squared_error\n",
    "from datetime import datetime\n",
    "import holidays\n",
    "import joblib"
   ]
  },
  {
   "cell_type": "code",
   "execution_count": 8,
   "id": "0115c0c3-7e5f-4577-bf7b-2f0b1eae52cd",
   "metadata": {},
   "outputs": [
    {
     "name": "stdout",
     "output_type": "stream",
     "text": [
      "Data loaded successfully!\n",
      "Feature engineering completed!\n"
     ]
    }
   ],
   "source": [
    "# STEP 2: Load Dataset\n",
    "# ============================================\n",
    "data = pd.read_csv('inventory.csv')\n",
    "print(\"Data loaded successfully!\")\n",
    "data.head()\n",
    "\n",
    "# ============================================\n",
    "# STEP 3: Feature Engineering\n",
    "# ============================================\n",
    "parts = data['date'].str.split('-', n=3, expand=True)\n",
    "data['year'] = parts[0].astype('int')\n",
    "data['month'] = parts[1].astype('int')\n",
    "data['day'] = parts[2].astype('int')\n",
    "\n",
    "def weekend_or_weekday(year, month, day):\n",
    "    d = datetime(year, month, day)\n",
    "    return 1 if d.weekday() > 4 else 0\n",
    "\n",
    "data['weekend'] = data.apply(lambda x: weekend_or_weekday(x['year'], x['month'], x['day']), axis=1)\n",
    "\n",
    "india_holidays = holidays.country_holidays('IN')\n",
    "data['holiday'] = data['date'].apply(lambda x: 1 if india_holidays.get(x) else 0)\n",
    "\n",
    "def which_day(year, month, day):\n",
    "    return datetime(year, month, day).weekday()\n",
    "\n",
    "data['weekday'] = data.apply(lambda x: which_day(x['year'], x['month'], x['day']), axis=1)\n",
    "\n",
    "data.drop('date', axis=1, inplace=True)\n",
    "print(\"Feature engineering completed!\")"
   ]
  },
  {
   "cell_type": "code",
   "execution_count": 12,
   "id": "74ea5b62-02c1-486b-a0d6-6e849bc590fa",
   "metadata": {},
   "outputs": [],
   "source": [
    "# STEP 4: Split Data\n",
    "\n",
    "X = data.drop(['sales'], axis=1)\n",
    "y = data['sales']\n",
    "\n",
    "X_train, X_test, y_train, y_test = train_test_split(X, y, test_size=0.2, random_state=42)"
   ]
  },
  {
   "cell_type": "code",
   "execution_count": 13,
   "id": "5126b9f2-6c67-49db-899b-8c459e60f45f",
   "metadata": {},
   "outputs": [
    {
     "name": "stdout",
     "output_type": "stream",
     "text": [
      "LinearRegression Mean CV Score: 0.09349267480806296\n",
      "Lasso Mean CV Score: 0.09221163522348144\n",
      "Ridge Mean CV Score: 0.0934926749977999\n",
      "XGBoost Mean CV Score: 0.9278741955757142\n"
     ]
    }
   ],
   "source": [
    "# STEP 5: Train Models\n",
    "\n",
    "models = {\n",
    "    'LinearRegression': LinearRegression(),\n",
    "    'Lasso': Lasso(),\n",
    "    'Ridge': Ridge(),\n",
    "    'XGBoost': XGBRegressor()\n",
    "}\n",
    "\n",
    "for name, model in models.items():\n",
    "    score = cross_val_score(model, X_train, y_train, cv=5)\n",
    "    print(f\"{name} Mean CV Score: {score.mean()}\")"
   ]
  },
  {
   "cell_type": "code",
   "execution_count": 14,
   "id": "633f7fc4-36f5-4c89-9193-5f720be9dc85",
   "metadata": {},
   "outputs": [
    {
     "name": "stdout",
     "output_type": "stream",
     "text": [
      "Final XGBoost Test MSE: 59.44453430175781\n"
     ]
    }
   ],
   "source": [
    "# STEP 6: Choose Best Model and Train Fully\n",
    "# ============================================\n",
    "best_model = XGBRegressor()\n",
    "best_model.fit(X_train, y_train)\n",
    "\n",
    "pred = best_model.predict(X_test)\n",
    "mse = mean_squared_error(y_test, pred)\n",
    "print(\"Final XGBoost Test MSE:\", mse)\n"
   ]
  },
  {
   "cell_type": "code",
   "execution_count": 18,
   "id": "bcd24837-765f-4d4c-9075-10c621ad6cd2",
   "metadata": {},
   "outputs": [
    {
     "name": "stdout",
     "output_type": "stream",
     "text": [
      "Model saved successfully at ../sales/model.pkl!\n"
     ]
    }
   ],
   "source": [
    "# STEP 7: Save Model\n",
    "# ============================================\n",
    "joblib.dump(best_model, '../sales/model.pkl')\n",
    "print(\"Model saved successfully at ../sales/model.pkl!\")"
   ]
  },
  {
   "cell_type": "code",
   "execution_count": 19,
   "id": "880112e2-2eac-4c4a-b72f-8f034ef5d0da",
   "metadata": {},
   "outputs": [
    {
     "name": "stdout",
     "output_type": "stream",
     "text": [
      "Predicted sales for store 1, item 3 on 2017-03-20: 30.200000762939453\n"
     ]
    }
   ],
   "source": [
    "import joblib\n",
    "import numpy as np\n",
    "from datetime import datetime\n",
    "import holidays\n",
    "\n",
    "# Load saved model\n",
    "model = joblib.load('../sales/model.pkl')\n",
    "\n",
    "# Example input\n",
    "store = 1\n",
    "item = 3\n",
    "date = '2017-03-20'\n",
    "\n",
    "# Convert date to features\n",
    "year, month, day = map(int, date.split('-'))\n",
    "weekend = 1 if datetime(year, month, day).weekday() > 4 else 0\n",
    "india_holidays = holidays.country_holidays('IN')\n",
    "holiday = 1 if india_holidays.get(date) else 0\n",
    "weekday = datetime(year, month, day).weekday()\n",
    "\n",
    "features = np.array([[store, item, year, month, day, weekend, holiday, weekday]])\n",
    "\n",
    "# Make prediction\n",
    "prediction = model.predict(features)[0]\n",
    "print(f\"Predicted sales for store {store}, item {item} on {date}: {round(prediction, 2)}\")\n"
   ]
  },
  {
   "cell_type": "code",
   "execution_count": null,
   "id": "2951645f-aa5c-472e-9844-490780431cb0",
   "metadata": {},
   "outputs": [],
   "source": []
  }
 ],
 "metadata": {
  "kernelspec": {
   "display_name": "Python 3 (ipykernel)",
   "language": "python",
   "name": "python3"
  },
  "language_info": {
   "codemirror_mode": {
    "name": "ipython",
    "version": 3
   },
   "file_extension": ".py",
   "mimetype": "text/x-python",
   "name": "python",
   "nbconvert_exporter": "python",
   "pygments_lexer": "ipython3",
   "version": "3.13.7"
  }
 },
 "nbformat": 4,
 "nbformat_minor": 5
}
